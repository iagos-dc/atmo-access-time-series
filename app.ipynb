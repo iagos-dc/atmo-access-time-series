{
 "cells": [
  {
   "cell_type": "markdown",
   "metadata": {},
   "source": [
    "\n",
    "<br>\n",
    "ATMO-ACCESS time series service<br>\n"
   ]
  },
  {
   "cell_type": "code",
   "execution_count": 1,
   "metadata": {},
   "outputs": [],
   "source": [
    "import numpy as np\n",
    "import pandas as pd\n",
    "import plotly.express as px"
   ]
  },
  {
   "cell_type": "markdown",
   "metadata": {},
   "source": [
    "Dash imports; for documentation (including tutorial), see: https://dash.plotly.com/"
   ]
  },
  {
   "cell_type": "code",
   "execution_count": 2,
   "metadata": {},
   "outputs": [],
   "source": [
    "from dash import dcc\n",
    "from dash import html\n",
    "from dash import dash_table\n",
    "from dash.dependencies import Input, Output, State"
   ]
  },
  {
   "cell_type": "markdown",
   "metadata": {},
   "source": [
    "Provides a version of Dash application which can be run in Jupyter notebook/lab<br>\n",
    "See: https://github.com/plotly/jupyter-dash"
   ]
  },
  {
   "cell_type": "code",
   "execution_count": 3,
   "metadata": {},
   "outputs": [],
   "source": [
    "from jupyter_dash import JupyterDash"
   ]
  },
  {
   "cell_type": "markdown",
   "metadata": {},
   "source": [
    "Local imports"
   ]
  },
  {
   "cell_type": "code",
   "execution_count": 4,
   "metadata": {},
   "outputs": [],
   "source": [
    "import data_access"
   ]
  },
  {
   "cell_type": "markdown",
   "metadata": {},
   "source": [
    "Configuration of the app<br>\n",
    "See: https://dash.plotly.com/devtools#configuring-with-run_server<br>\n",
    "for the usual Dash app, and:<br>\n",
    "https://github.com/plotly/jupyter-dash/blob/master/notebooks/getting_started.ipynb<br>\n",
    "for a JupyterDash app version."
   ]
  },
  {
   "cell_type": "code",
   "execution_count": 5,
   "metadata": {},
   "outputs": [],
   "source": [
    "RUNNING_IN_BINDER = False\n",
    "app_conf = {'mode': 'inline', 'debug': True}\n",
    "#app_conf = {'mode': 'external', 'debug': True}\n",
    "if RUNNING_IN_BINDER:\n",
    "    JupyterDash.infer_jupyter_proxy_config()\n",
    "else:\n",
    "    app_conf.update({'host': 'localhost', 'port': 9237})"
   ]
  },
  {
   "cell_type": "markdown",
   "metadata": {},
   "source": [
    "Below there are id's of Dash JS components.<br>\n",
    "The components themselves are declared in the dashboard layout (see the function get_dashboard_layout).<br>\n",
    "Essential properties of each component are explained in the comments below."
   ]
  },
  {
   "cell_type": "code",
   "execution_count": 6,
   "metadata": {},
   "outputs": [],
   "source": [
    "STATIONS_MAP_ID = 'stations-map'\n",
    "    # 'selectedData' contains a dictionary\n",
    "    # {\n",
    "    #   'point' ->\n",
    "    #       list of dicionaries {'pointIndex' -> index of a station in the global dataframe stations, 'lon' -> float, 'lat' -> float, ...},\n",
    "    #   'range' (present only if a box was selected on the map) ->\n",
    "    #       {'mapbox' -> [[lon_min, lat_max], [lon_max, lat_min]]}\n",
    "    # }\n",
    "VARIABLES_CHECKLIST_ID = 'variables-checklist'\n",
    "SELECTED_STATIONS_DROPDOWN_ID = 'selected-stations-dropdown'\n",
    "    # 'options' contains a list of dictionaries {'label' -> station label, 'value' -> index of the station in the global dataframe stations (see below)}\n",
    "    # 'value' contains a list of indices of stations selected using the dropdown\n",
    "SEARCH_DATASETS_BUTTON_ID = 'search-datasets-button'\n",
    "    # 'n_click' contains a number of click at the button\n",
    "LAT_MAX_ID = 'lat-max'\n",
    "LAT_MIN_ID = 'lat-min'\n",
    "LON_MAX_ID = 'lon-max'\n",
    "LON_MIN_ID = 'lon-min'\n",
    "    # 'value' contains a number (or None)\n",
    "GANTT_VIEW_RADIO_ID = 'gantt-view-radio'\n",
    "    # 'value' contains 'compact' or 'detailed'\n",
    "GANTT_GRAPH_ID = 'gantt-graph'\n",
    "    # 'figure' contains a Plotly figure object\n",
    "DATASETS_STORE_ID = 'datasets-store'\n",
    "    # 'data' stores datasets metadata in JSON, as provided by the method pd.DataFrame.to_json(orient='split', date_format='iso')\n",
    "DATASETS_TABLE_ID = 'datasets-table'\n",
    "    # 'columns' contains list of dictionaries {'name' -> column name, 'id' -> column id}\n",
    "    # 'data' contains a list of records as provided by the method pd.DataFrame.to_dict(orient='records')"
   ]
  },
  {
   "cell_type": "markdown",
   "metadata": {},
   "source": [
    "Initialization of global objects"
   ]
  },
  {
   "cell_type": "code",
   "execution_count": 7,
   "metadata": {},
   "outputs": [],
   "source": [
    "app = JupyterDash(__name__)\n",
    "stations = data_access.get_stations()\n",
    "variables = data_access.get_vars()"
   ]
  },
  {
   "cell_type": "markdown",
   "metadata": {},
   "source": [
    "Begin of definition of routines which constructs components of the dashboard"
   ]
  },
  {
   "cell_type": "code",
   "execution_count": 8,
   "metadata": {},
   "outputs": [],
   "source": [
    "def get_variables_checklist():\n",
    "    \"\"\"\n",
    "    Provide variables checklist Dash component\n",
    "    See: https://dash.plotly.com/dash-core-components/checklist\n",
    "    :return: dash.dcc.Checklist\n",
    "    \"\"\"\n",
    "    variables_options = variables \\\n",
    "        .rename(columns={'ECV_name': 'label', 'variable_name': 'value'})[['label', 'value']] \\\n",
    "        .to_dict(orient='index').values()\n",
    "    variables_checklist = dcc.Checklist(\n",
    "        id=VARIABLES_CHECKLIST_ID,\n",
    "        options=list(variables_options),\n",
    "        value=list(variables['variable_name']),\n",
    "        labelStyle={'display': 'flex'},  # display in column rather than in a row; not sure if it is the right way to do\n",
    "    )\n",
    "    return variables_checklist"
   ]
  },
  {
   "cell_type": "code",
   "execution_count": 9,
   "metadata": {},
   "outputs": [],
   "source": [
    "def get_stations_map():\n",
    "    \"\"\"\n",
    "    Provide a Dash component containing a map with stations\n",
    "    See: https://dash.plotly.com/dash-core-components/graph\n",
    "    :return: dash.dcc.Graph object\n",
    "    \"\"\"\n",
    "    fig = px.scatter_mapbox(\n",
    "        stations,\n",
    "        lat=\"latitude\", lon=\"longitude\", color='RI',\n",
    "        hover_name=\"long_name\", hover_data=[\"ground_elevation\"],\n",
    "        color_discrete_sequence=[\"red\"], #, \"blue\"],  # can define colors to be used in case of many RI's\n",
    "        zoom=3, height=600\n",
    "    )\n",
    "    fig.update_layout(mapbox_style=\"open-street-map\",\n",
    "                      margin={'r': 0, 't': 0, 'l': 0, 'b': 0},\n",
    "                      clickmode='event+select')\n",
    "    stations_map = dcc.Graph(\n",
    "        id=STATIONS_MAP_ID,\n",
    "        figure=fig,\n",
    "    )\n",
    "    return stations_map"
   ]
  },
  {
   "cell_type": "code",
   "execution_count": 10,
   "metadata": {},
   "outputs": [],
   "source": [
    "def get_bbox_selection_div():\n",
    "    \"\"\"\n",
    "    Provide a composed Dash component with input/ouput text fields which allow to provide coordinates of a bounding box\n",
    "    See: https://dash.plotly.com/dash-core-components/input\n",
    "    :return: dash.html.Div object\n",
    "    \"\"\"\n",
    "    bbox_selection_div = html.Div(id='bbox-selection-div', children=[\n",
    "        html.Div(className='row', children=[\n",
    "            html.Div(className='offset-by-six columns', children=[\n",
    "                dcc.Input(className='three columns', id=LAT_MAX_ID, placeholder='lat max', type='number', min=-90,\n",
    "                          max=90),  # , step=0.01),\n",
    "            ]),\n",
    "        ]),\n",
    "        html.Div(className='row', children=[\n",
    "            html.P(className='three columns', children='Bounding box:', style={'font-weight': 'bold'}),\n",
    "            dcc.Input(className='three columns', id=LON_MIN_ID, placeholder='lon min', type='number', min=-180,\n",
    "                      max=180),  # , step=0.01),\n",
    "            dcc.Input(className='three columns, offset-by-three columns', id=LON_MAX_ID, placeholder='lon max',\n",
    "                      type='number', min=-180, max=180),  # , step=0.01),\n",
    "        ]),\n",
    "        html.Div(className='row', children=[\n",
    "            html.Div(className='offset-by-six columns', children=[\n",
    "                dcc.Input(className='three columns', id=LAT_MIN_ID, placeholder='lat min', type='number', min=-90,\n",
    "                          max=90),  # , step=0.01),\n",
    "            ]),\n",
    "        ]),\n",
    "    ])\n",
    "    return bbox_selection_div"
   ]
  },
  {
   "cell_type": "code",
   "execution_count": 11,
   "metadata": {},
   "outputs": [],
   "source": [
    "def get_dashboard_layout():\n",
    "    # these are special Dash components used for transferring data from one callback to other callback(s)\n",
    "    # without displaying the data\n",
    "    stores = [\n",
    "        dcc.Store(id=DATASETS_STORE_ID),\n",
    "    ]\n",
    "    layout = html.Div(id='app-container-div', children=stores + [\n",
    "        html.Div(id='left-panel-div', className='four columns', children=[\n",
    "\n",
    "            # logo and application title\n",
    "            html.Div(className='row', children=[\n",
    "                html.Div(style={'float': 'left'}, children=[\n",
    "                    html.A(\n",
    "                        html.Img(\n",
    "                            src=app.get_asset_url('atmo_access_logo.png'),\n",
    "                            style={'float': 'right', 'height': '40px', 'margin-top': '10px'}\n",
    "                        ),\n",
    "                        href=\"https://www.atmo-access.eu/\",\n",
    "                    ),\n",
    "                ]),\n",
    "                html.Div(style={'float': 'right'}, children=[\n",
    "                    html.H3('Time-series analysis'),\n",
    "                ]),\n",
    "            ]),\n",
    "            html.Div(id='variables-selection-div', children=[\n",
    "                html.P('Select variable(s)', style={'font-weight': 'bold'}),\n",
    "                get_variables_checklist(),\n",
    "            ]),\n",
    "            get_bbox_selection_div(),\n",
    "            html.Hr(),\n",
    "            html.Div(id='selected-stations-div', children=[\n",
    "                html.P('Selected stations (you can refine your selection)', style={'font-weight': 'bold'}),\n",
    "                dcc.Dropdown(id=SELECTED_STATIONS_DROPDOWN_ID, multi=True, clearable=False),\n",
    "            ]),\n",
    "            html.Hr(),\n",
    "            html.Button(id=SEARCH_DATASETS_BUTTON_ID, n_clicks=0, children='Search datasets'),\n",
    "        ]),\n",
    "        html.Div(id='rest-of-dashboard-div', className='eight columns', children=[\n",
    "            get_stations_map(),\n",
    "            html.Hr(),\n",
    "            dcc.RadioItems(\n",
    "                id=GANTT_VIEW_RADIO_ID,\n",
    "                options=[\n",
    "                    {'label': 'compact view', 'value': 'compact'},\n",
    "                    {'label': 'detailed view', 'value': 'detailed'},\n",
    "                ],\n",
    "                value='compact',\n",
    "                labelStyle={'display': 'flex'},\n",
    "            ),\n",
    "            dcc.Graph(\n",
    "                id=GANTT_GRAPH_ID,\n",
    "            ),\n",
    "            dash_table.DataTable(\n",
    "                id=DATASETS_TABLE_ID,\n",
    "            ),\n",
    "        ]),\n",
    "    ])\n",
    "    return layout"
   ]
  },
  {
   "cell_type": "markdown",
   "metadata": {},
   "source": [
    "End of definition of routines which constructs components of the dashboard"
   ]
  },
  {
   "cell_type": "markdown",
   "metadata": {},
   "source": [
    "Assign a dashboard layout to app Dash object"
   ]
  },
  {
   "cell_type": "code",
   "execution_count": 12,
   "metadata": {},
   "outputs": [],
   "source": [
    "app.layout = get_dashboard_layout()"
   ]
  },
  {
   "cell_type": "markdown",
   "metadata": {},
   "source": [
    "Begin of callback definitions and their helper routines.<br>\n",
    "See: https://dash.plotly.com/basic-callbacks<br>\n",
    "for a basic tutorial and<br>\n",
    "https://dash.plotly.com/  -->  Dash Callback in left menu<br>\n",
    "for more detailed documentation"
   ]
  },
  {
   "cell_type": "code",
   "execution_count": 13,
   "metadata": {},
   "outputs": [],
   "source": [
    "@app.callback(\n",
    "    Output(DATASETS_STORE_ID, 'data'),\n",
    "    Input(SEARCH_DATASETS_BUTTON_ID, 'n_clicks'),\n",
    "    State(VARIABLES_CHECKLIST_ID, 'value'),\n",
    "    State(LON_MIN_ID, 'value'),\n",
    "    State(LON_MAX_ID, 'value'),\n",
    "    State(LAT_MIN_ID, 'value'),\n",
    "    State(LAT_MAX_ID, 'value'),\n",
    "    State(SELECTED_STATIONS_DROPDOWN_ID, 'value')\n",
    ")\n",
    "def search_datasets(n_clicks, selected_variables, lon_min, lon_max, lat_min, lat_max, selected_stations_idx):\n",
    "    if selected_stations_idx is None:\n",
    "        selected_stations_idx = []\n",
    "    datasets_df = data_access.get_datasets(selected_variables, lon_min, lon_max, lat_min, lat_max)\n",
    "    selected_stations_short_name = stations['short_name'].iloc[selected_stations_idx]\n",
    "    datasets_df_filtered = datasets_df[datasets_df['platform_id'].isin(selected_stations_short_name)]\n",
    "    return datasets_df_filtered.to_json(orient='split', date_format='iso')"
   ]
  },
  {
   "cell_type": "code",
   "execution_count": 14,
   "metadata": {},
   "outputs": [],
   "source": [
    "@app.callback(\n",
    "    Output(DATASETS_TABLE_ID, 'columns'),\n",
    "    Output(DATASETS_TABLE_ID, 'data'),\n",
    "    Input(DATASETS_STORE_ID, 'data'),\n",
    ")\n",
    "def datasets_as_table(datasets_json):\n",
    "    if not datasets_json:\n",
    "        return None, None\n",
    "    datasets_df = pd.read_json(datasets_json, orient='split')\n",
    "    table_columns = [{\"name\": i, \"id\": i} for i in datasets_df.columns]\n",
    "    table_data = datasets_df.to_dict(orient='records')\n",
    "    return table_columns, table_data"
   ]
  },
  {
   "cell_type": "code",
   "execution_count": 15,
   "metadata": {},
   "outputs": [],
   "source": [
    "def _get_selected_points(selected_stations):\n",
    "    if selected_stations is not None:\n",
    "        points = selected_stations['points']\n",
    "    else:\n",
    "        points = []\n",
    "    return pd.DataFrame.from_records(points, index='pointIndex', columns=['pointIndex', 'lon', 'lat'])"
   ]
  },
  {
   "cell_type": "code",
   "execution_count": 16,
   "metadata": {},
   "outputs": [],
   "source": [
    "def _get_bounding_box(selected_points_df, selected_stations):\n",
    "    # decimal precision for bounding box coordinates (lon/lat)\n",
    "    decimal_precision = 2\n",
    "\n",
    "    # find selection box, if there is one\n",
    "    try:\n",
    "        (lon_min, lat_max), (lon_max, lat_min) = selected_stations['range']['mapbox']\n",
    "    except:\n",
    "        lon_min, lon_max, lat_min, lat_max = np.inf, -np.inf, np.inf, -np.inf\n",
    "    if len(selected_points_df) > 0:\n",
    "        # find bouding box for selected points\n",
    "        epsilon = 0.001  # precision margin for filtering on lon/lat of stations later on\n",
    "        lon_min2, lon_max2 = selected_points_df['lon'].min() - epsilon, selected_points_df['lon'].max() + epsilon\n",
    "        lat_min2, lat_max2 = selected_points_df['lat'].min() - epsilon, selected_points_df['lat'].max() + epsilon\n",
    "\n",
    "        # find a common bounding box for the both bboxes found above\n",
    "        lon_min, lon_max = np.min((lon_min, lon_min2)), np.max((lon_max, lon_max2))\n",
    "        lat_min, lat_max = np.min((lat_min, lat_min2)), np.max((lat_max, lat_max2))\n",
    "    if not np.all(np.isfinite([lon_min, lon_max, lat_min, lat_max])):\n",
    "        return [None] * 4\n",
    "    return [round(coord, decimal_precision) for coord in (lon_min, lon_max, lat_min, lat_max)]"
   ]
  },
  {
   "cell_type": "code",
   "execution_count": 17,
   "metadata": {},
   "outputs": [],
   "source": [
    "def _get_selected_stations_option_list(selected_stations_df):\n",
    "    idx = selected_stations_df.index\n",
    "    df = stations.iloc[idx]\n",
    "    labels = df['short_name'] + ' (' + df['long_name'] + ', ' + df['country'] + ')'\n",
    "    options = labels.rename('label').reset_index()\n",
    "    return [html.Option(children=option, value=str(i), selected=True) for i, option in zip(options['index'], options['label'])]"
   ]
  },
  {
   "cell_type": "code",
   "execution_count": 18,
   "metadata": {},
   "outputs": [],
   "source": [
    "def _get_selected_stations_dropdown(selected_stations_df):\n",
    "    idx = selected_stations_df.index\n",
    "    df = stations.iloc[idx]\n",
    "    labels = df['short_name'] + ' (' + df['long_name'] + ', ' + df['country'] + ')'\n",
    "    options = labels.rename('label').reset_index().rename(columns={'index': 'value'})\n",
    "    return options.to_dict(orient='records'), list(options['value'])"
   ]
  },
  {
   "cell_type": "code",
   "execution_count": 19,
   "metadata": {},
   "outputs": [],
   "source": [
    "@app.callback(\n",
    "    Output(LON_MIN_ID, 'value'),\n",
    "    Output(LON_MAX_ID, 'value'),\n",
    "    Output(LAT_MIN_ID, 'value'),\n",
    "    Output(LAT_MAX_ID, 'value'),\n",
    "    Output(SELECTED_STATIONS_DROPDOWN_ID, 'options'),\n",
    "    Output(SELECTED_STATIONS_DROPDOWN_ID, 'value'),\n",
    "    Input(STATIONS_MAP_ID, 'selectedData'))\n",
    "def get_selected_stations_bbox_and_dropdown(selected_stations):\n",
    "    selected_stations_df = _get_selected_points(selected_stations)\n",
    "    bbox = _get_bounding_box(selected_stations_df, selected_stations)\n",
    "    selected_stations_dropdown_options, selected_stations_dropdown_value = _get_selected_stations_dropdown(selected_stations_df)\n",
    "    return bbox + [selected_stations_dropdown_options, selected_stations_dropdown_value]"
   ]
  },
  {
   "cell_type": "code",
   "execution_count": 20,
   "metadata": {},
   "outputs": [],
   "source": [
    "def _contiguous_periods(start, end):\n",
    "    s, e, idx = [], [], []\n",
    "    df = pd.DataFrame({'s': start, 'e': end}).sort_values(by='s', ignore_index=False)\n",
    "    df['e'] = df['e'].cummax()\n",
    "    if len(df) > 0:\n",
    "        delims, = np.nonzero(df['e'].values[:-1] < df['s'].values[1:])\n",
    "        delims = np.concatenate(([0], delims + 1, [len(df)]))\n",
    "        for i, j in zip(delims[:-1], delims[1:]):\n",
    "            s.append(df['s'].iloc[i])\n",
    "            e.append(df['e'].iloc[j - 1])\n",
    "            idx.append(df.index[i:j])\n",
    "    return pd.DataFrame({'time_period_start': s, 'time_period_end': e, 'idx': idx})"
   ]
  },
  {
   "cell_type": "code",
   "execution_count": 21,
   "metadata": {},
   "outputs": [],
   "source": [
    "def _get_timeline_by_station(datasets_df):\n",
    "    df = datasets_df\\\n",
    "        .groupby(['platform_id'])\\\n",
    "        .apply(lambda x: _contiguous_periods(x.time_period_start, x.time_period_end))\\\n",
    "        .reset_index()\n",
    "    no_platforms = len(df['platform_id'].unique())\n",
    "    height = 100 + max(100, 50 + 30 * no_platforms)\n",
    "    gantt = px.timeline(\n",
    "        df, x_start='time_period_start', x_end='time_period_end', y='platform_id', color='platform_id',\n",
    "        height=height\n",
    "    )\n",
    "    gantt.update_layout(clickmode='event+select')\n",
    "    return gantt"
   ]
  },
  {
   "cell_type": "code",
   "execution_count": 22,
   "metadata": {},
   "outputs": [],
   "source": [
    "def _get_timeline_by_station_and_vars(datasets_df):\n",
    "    df = datasets_df\\\n",
    "        .groupby(['platform_id', 'var_codes_filtered'])\\\n",
    "        .apply(lambda x: _contiguous_periods(x.time_period_start, x.time_period_end))\\\n",
    "        .reset_index()\n",
    "    facet_col_wrap = 3\n",
    "    no_platforms = len(df['platform_id'].unique())\n",
    "    no_var_codes_filtered = len(df['var_codes_filtered'].unique())\n",
    "    no_facet_rows = (no_var_codes_filtered + facet_col_wrap - 1) // facet_col_wrap\n",
    "    height = 100 + max(100, 50 + 25 * no_platforms) * no_facet_rows\n",
    "    gantt = px.timeline(\n",
    "        df, x_start='time_period_start', x_end='time_period_end', y='platform_id', color='var_codes_filtered',\n",
    "        height=height, facet_col='var_codes_filtered', facet_col_wrap=facet_col_wrap,\n",
    "    )\n",
    "    gantt.update_layout(clickmode='event+select')\n",
    "    return gantt"
   ]
  },
  {
   "cell_type": "code",
   "execution_count": 23,
   "metadata": {},
   "outputs": [],
   "source": [
    "@app.callback(\n",
    "    Output(GANTT_GRAPH_ID, 'figure'),\n",
    "    Input(GANTT_VIEW_RADIO_ID, 'value'),\n",
    "    Input(DATASETS_STORE_ID, 'data'),\n",
    ")\n",
    "def get_gantt_figure(gantt_view_type, datasets_json):\n",
    "    datasets_df = pd.read_json(datasets_json, orient='split')\n",
    "    if len(datasets_df) == 0:\n",
    "        return {}   # empty figure; TODO: is it the right way to do?\n",
    "    if gantt_view_type == 'compact':\n",
    "        return _get_timeline_by_station(datasets_df)\n",
    "    else:\n",
    "        return _get_timeline_by_station_and_vars(datasets_df)"
   ]
  },
  {
   "cell_type": "markdown",
   "metadata": {},
   "source": [
    "End of callback definitions"
   ]
  },
  {
   "cell_type": "markdown",
   "metadata": {},
   "source": [
    "Launch the Dash application."
   ]
  },
  {
   "cell_type": "code",
   "execution_count": null,
   "metadata": {},
   "outputs": [],
   "source": [
    "app.run_server(**app_conf)"
   ]
  }
 ],
 "metadata": {
  "kernelspec": {
   "display_name": "Python 3",
   "language": "python",
   "name": "python3"
  },
  "language_info": {
   "codemirror_mode": {
    "name": "ipython",
    "version": 3
   },
   "file_extension": ".py",
   "mimetype": "text/x-python",
   "name": "python",
   "nbconvert_exporter": "python",
   "pygments_lexer": "ipython3",
   "version": "3.8.12"
  }
 },
 "nbformat": 4,
 "nbformat_minor": 2
}
